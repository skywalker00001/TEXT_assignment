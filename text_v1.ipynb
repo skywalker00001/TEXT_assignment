{
  "nbformat": 4,
  "nbformat_minor": 0,
  "metadata": {
    "colab": {
      "name": "text_v1.ipynb",
      "provenance": [],
      "collapsed_sections": [],
      "toc_visible": true,
      "authorship_tag": "ABX9TyNnnNwPkLmdh4SyMdZEygQG",
      "include_colab_link": true
    },
    "kernelspec": {
      "name": "python3",
      "display_name": "Python 3"
    },
    "language_info": {
      "name": "python"
    }
  },
  "cells": [
    {
      "cell_type": "markdown",
      "metadata": {
        "id": "view-in-github",
        "colab_type": "text"
      },
      "source": [
        "<a href=\"https://colab.research.google.com/github/skywalker00001/TEXT_assignment/blob/main/text_v1.ipynb\" target=\"_parent\"><img src=\"https://colab.research.google.com/assets/colab-badge.svg\" alt=\"Open In Colab\"/></a>"
      ]
    },
    {
      "cell_type": "markdown",
      "metadata": {
        "id": "VwgYIXlDc18W"
      },
      "source": [
        "# Mount resource and Import libraries"
      ]
    },
    {
      "cell_type": "code",
      "metadata": {
        "colab": {
          "base_uri": "https://localhost:8080/"
        },
        "id": "ibcjxSQ_c3je",
        "outputId": "0fa6d643-8c70-4c24-cad7-351947dfa571"
      },
      "source": [
        "# mounting\n",
        "from google.colab import drive\n",
        "\n",
        "drive.mount('/content/drive')\n",
        "root = 'drive/MyDrive/TEXT_assignment/'"
      ],
      "execution_count": 1,
      "outputs": [
        {
          "output_type": "stream",
          "name": "stdout",
          "text": [
            "Mounted at /content/drive\n"
          ]
        }
      ]
    },
    {
      "cell_type": "code",
      "metadata": {
        "id": "Qfnw1PMZcyxI"
      },
      "source": [
        "import json\n",
        "import random\n",
        "import string\n",
        "import math\n",
        "from collections import defaultdict\n",
        "from collections import Counter\n",
        "from matplotlib import pyplot as plt \n",
        "import seaborn as sns\n",
        "import pandas as pd\n",
        "\n",
        "\n",
        "SEED = 2\n",
        "random.seed(SEED)"
      ],
      "execution_count": 2,
      "outputs": []
    },
    {
      "cell_type": "code",
      "metadata": {
        "colab": {
          "base_uri": "https://localhost:8080/"
        },
        "id": "3fA5M9lEdDCS",
        "outputId": "c30456a9-a494-42ca-f61f-5920cbcfaddd"
      },
      "source": [
        "# Install the required packages for this lab\n",
        "\n",
        "!pip install nltk\n",
        "import nltk\n",
        "nltk.download('punkt')\n",
        "from nltk.corpus import stopwords\n",
        "from nltk import word_tokenize\n",
        "nltk.download('stopwords')\n",
        "from nltk.tag import pos_tag\n",
        "\n",
        " # STEMMING\n",
        "from nltk.stem import PorterStemmer\n",
        "porter = PorterStemmer()"
      ],
      "execution_count": 3,
      "outputs": [
        {
          "output_type": "stream",
          "name": "stdout",
          "text": [
            "Requirement already satisfied: nltk in /usr/local/lib/python3.7/dist-packages (3.2.5)\n",
            "Requirement already satisfied: six in /usr/local/lib/python3.7/dist-packages (from nltk) (1.15.0)\n",
            "[nltk_data] Downloading package punkt to /root/nltk_data...\n",
            "[nltk_data]   Unzipping tokenizers/punkt.zip.\n",
            "[nltk_data] Downloading package stopwords to /root/nltk_data...\n",
            "[nltk_data]   Unzipping corpora/stopwords.zip.\n"
          ]
        }
      ]
    },
    {
      "cell_type": "code",
      "metadata": {
        "colab": {
          "base_uri": "https://localhost:8080/"
        },
        "id": "VR9tafJFdG7G",
        "outputId": "c3ecf282-f507-4b40-8883-11ead8aa0821"
      },
      "source": [
        "# add to the stopwords\n",
        "stop_words_list = stopwords.words('english')\n",
        "stop_words_list.append('\\'s')\n",
        "stop_words_list.append('n\\'t')\n",
        "print(stop_words_list)"
      ],
      "execution_count": 4,
      "outputs": [
        {
          "output_type": "stream",
          "name": "stdout",
          "text": [
            "['i', 'me', 'my', 'myself', 'we', 'our', 'ours', 'ourselves', 'you', \"you're\", \"you've\", \"you'll\", \"you'd\", 'your', 'yours', 'yourself', 'yourselves', 'he', 'him', 'his', 'himself', 'she', \"she's\", 'her', 'hers', 'herself', 'it', \"it's\", 'its', 'itself', 'they', 'them', 'their', 'theirs', 'themselves', 'what', 'which', 'who', 'whom', 'this', 'that', \"that'll\", 'these', 'those', 'am', 'is', 'are', 'was', 'were', 'be', 'been', 'being', 'have', 'has', 'had', 'having', 'do', 'does', 'did', 'doing', 'a', 'an', 'the', 'and', 'but', 'if', 'or', 'because', 'as', 'until', 'while', 'of', 'at', 'by', 'for', 'with', 'about', 'against', 'between', 'into', 'through', 'during', 'before', 'after', 'above', 'below', 'to', 'from', 'up', 'down', 'in', 'out', 'on', 'off', 'over', 'under', 'again', 'further', 'then', 'once', 'here', 'there', 'when', 'where', 'why', 'how', 'all', 'any', 'both', 'each', 'few', 'more', 'most', 'other', 'some', 'such', 'no', 'nor', 'not', 'only', 'own', 'same', 'so', 'than', 'too', 'very', 's', 't', 'can', 'will', 'just', 'don', \"don't\", 'should', \"should've\", 'now', 'd', 'll', 'm', 'o', 're', 've', 'y', 'ain', 'aren', \"aren't\", 'couldn', \"couldn't\", 'didn', \"didn't\", 'doesn', \"doesn't\", 'hadn', \"hadn't\", 'hasn', \"hasn't\", 'haven', \"haven't\", 'isn', \"isn't\", 'ma', 'mightn', \"mightn't\", 'mustn', \"mustn't\", 'needn', \"needn't\", 'shan', \"shan't\", 'shouldn', \"shouldn't\", 'wasn', \"wasn't\", 'weren', \"weren't\", 'won', \"won't\", 'wouldn', \"wouldn't\", \"'s\", \"n't\"]\n"
          ]
        }
      ]
    },
    {
      "cell_type": "code",
      "metadata": {
        "colab": {
          "base_uri": "https://localhost:8080/"
        },
        "id": "MRbMfTLrdLic",
        "outputId": "ec91ae8b-67e4-4237-a5c0-edcd35f23725"
      },
      "source": [
        "# stemming examples\n",
        "stemming_word_list = [\"friend\", \"friendship\", \"friends\", \"friendships\",\"stabil\",\"destabilize\",\"misunderstanding\",\"railroad\",\"moonlight\",\"football\"]\n",
        "print(\"{0:20}{1:20}\".format(\"Word\",\"Stemmed variant\"))\n",
        "print()\n",
        "\n",
        "for word in stemming_word_list:\n",
        "      print(\"{0:20}{1:20}\".format(word,porter.stem(word)))"
      ],
      "execution_count": 5,
      "outputs": [
        {
          "output_type": "stream",
          "name": "stdout",
          "text": [
            "Word                Stemmed variant     \n",
            "\n",
            "friend              friend              \n",
            "friendship          friendship          \n",
            "friends             friend              \n",
            "friendships         friendship          \n",
            "stabil              stabil              \n",
            "destabilize         destabil            \n",
            "misunderstanding    misunderstand       \n",
            "railroad            railroad            \n",
            "moonlight           moonlight           \n",
            "football            footbal             \n"
          ]
        }
      ]
    },
    {
      "cell_type": "markdown",
      "metadata": {
        "id": "DuSUUkXQdUYA"
      },
      "source": [
        "# Get 2 bussiness ids and the reviews"
      ]
    },
    {
      "cell_type": "code",
      "metadata": {
        "id": "UiakkyvpeBT3"
      },
      "source": [
        "business_id = []\n",
        "\n",
        "with open(root + 'yelp_academic_dataset_business.json', encoding='utf-8') as f:\n",
        "    for line in f:\n",
        "        line_contents = json.loads(line)\n",
        "        business_id.append(line_contents['business_id'])\n",
        "        # business_id.append(line_contents)\n",
        "        # id = line_contents['business_id']\n",
        "        # print(id)\n",
        "    f.close()"
      ],
      "execution_count": 6,
      "outputs": []
    },
    {
      "cell_type": "code",
      "metadata": {
        "colab": {
          "base_uri": "https://localhost:8080/"
        },
        "id": "DqEFGst7ddPv",
        "outputId": "cf31104c-168e-4e87-8efa-1ea3b7075aa1"
      },
      "source": [
        "b1 = random.randint(0, len(business_id))\n",
        "b1_id = business_id[b1]\n",
        "b2 = random.randint(0, len(business_id))\n",
        "b2_id = business_id[b2]\n",
        "\n",
        "print(b1)\n",
        "print(b1_id)\n",
        "print(b2)\n",
        "print(b2_id)"
      ],
      "execution_count": 7,
      "outputs": [
        {
          "output_type": "stream",
          "name": "stdout",
          "text": [
            "14824\n",
            "PyWyXv_pe5Rx4NRROFMm4w\n",
            "24008\n",
            "ZGXCnjEclvcXevrLOmBamQ\n"
          ]
        }
      ]
    },
    {
      "cell_type": "code",
      "metadata": {
        "id": "tGSBD9hldo5L"
      },
      "source": [
        "def get_reviews(b_id):\n",
        "    b_reviews = []\n",
        "    with open(root + 'yelp_academic_dataset_review.json', encoding='utf-8') as f:\n",
        "        for line in f:\n",
        "            line_contents = json.loads(line)\n",
        "            if (line_contents['business_id'] == b_id):\n",
        "                b_reviews.append(line_contents['text'])\n",
        "        f.close()\n",
        "    return b_reviews"
      ],
      "execution_count": 8,
      "outputs": []
    },
    {
      "cell_type": "code",
      "metadata": {
        "colab": {
          "base_uri": "https://localhost:8080/"
        },
        "id": "A_53GSBrdrR2",
        "outputId": "0d0ea5fd-be84-44f8-878e-470396a95d46"
      },
      "source": [
        "b1_reviews = get_reviews(b1_id)\n",
        "b2_reviews = get_reviews(b2_id)\n",
        "\n",
        "print(len(b1_reviews))\n",
        "print(b1_reviews[0])\n",
        "print(len(b2_reviews))\n",
        "print(b2_reviews[0])"
      ],
      "execution_count": 9,
      "outputs": [
        {
          "output_type": "stream",
          "name": "stdout",
          "text": [
            "34\n",
            "This place is great! Prices are very reasonable and the guys there are knowlegable and curious. They got the work done pretty fast and they even gave me a ride to my work when I dropped my truck off. I will definitely go here for cuter tire stuff.\n",
            "11\n",
            "Love this place to get my eyebrows threaded.   My only regret is that its not closer to my house or else I would go more often. :(  It is in a very nice art friendly complex in Old 4th Ward.\n"
          ]
        }
      ]
    },
    {
      "cell_type": "markdown",
      "metadata": {
        "id": "OJcWRrhoePWG"
      },
      "source": [
        "# Clean data"
      ]
    },
    {
      "cell_type": "code",
      "metadata": {
        "id": "rxi6W6hpeJiN"
      },
      "source": [
        "def clean_corpus(corpus, stopword_removal=False, stemming=False):\n",
        "    # lowercase\n",
        "    corpus = [t.lower() for t in corpus] \n",
        "    # join corpus together\n",
        "    corpus = ' '.join(corpus)\n",
        "    # tokenization\n",
        "    corpus = word_tokenize(corpus)\n",
        "    #remove punctuation\n",
        "    corpus = [t for t in corpus if t not in string.punctuation]\n",
        "    # remove stopword\n",
        "    if (stopword_removal == True):\n",
        "        corpus = [t for t in corpus if t not in stop_words_list]\n",
        "    # stemming\n",
        "    if (stemming == True):\n",
        "        corpus = [porter.stem(t) for t in corpus]\n",
        "    bow = Counter(corpus).most_common()\n",
        "    return bow"
      ],
      "execution_count": 10,
      "outputs": []
    },
    {
      "cell_type": "code",
      "metadata": {
        "colab": {
          "base_uri": "https://localhost:8080/",
          "height": 86
        },
        "id": "dJ-NCy7QoG18",
        "outputId": "2b323cd4-d7ed-4c8e-b9e7-cdb8464da8c8"
      },
      "source": [
        "'''\n",
        "b1_original_bow = clean_corpus(b1_reviews)\n",
        "b1_stop_removed = clean_corpus(b1_reviews, stopword_removal=True)\n",
        "b1_stemming_only = clean_corpus(b1_reviews, stopword_removal=False, stemming=True)\n",
        "b1_stemming_stop = clean_corpus(b1_reviews, stopword_removal=True, stemming=True)\n",
        "\n",
        "print(b1_original_bow)\n",
        "print(b1_stop_removed)\n",
        "print(b1_stemming_only)\n",
        "print(b1_stemming_stop)\n",
        "'''"
      ],
      "execution_count": 11,
      "outputs": [
        {
          "output_type": "execute_result",
          "data": {
            "application/vnd.google.colaboratory.intrinsic+json": {
              "type": "string"
            },
            "text/plain": [
              "'\\nb1_original_bow = clean_corpus(b1_reviews)\\nb1_stop_removed = clean_corpus(b1_reviews, stopword_removal=True)\\nb1_stemming_only = clean_corpus(b1_reviews, stopword_removal=False, stemming=True)\\nb1_stemming_stop = clean_corpus(b1_reviews, stopword_removal=True, stemming=True)\\n\\nprint(b1_original_bow)\\nprint(b1_stop_removed)\\nprint(b1_stemming_only)\\nprint(b1_stemming_stop)\\n'"
            ]
          },
          "metadata": {},
          "execution_count": 11
        }
      ]
    },
    {
      "cell_type": "markdown",
      "metadata": {
        "id": "twrKicjrfNFO"
      },
      "source": [
        "# Plot zipf's law (Word Frequency Distribution)"
      ]
    },
    {
      "cell_type": "code",
      "metadata": {
        "id": "9dh_lgSneaQV"
      },
      "source": [
        "def zipf(bow, title=\"Zipf plot\"):\n",
        "    freqs = [i[1] for i in bow]\n",
        "    ranks = [i+1 for i in range(len(freqs))]\n",
        "\n",
        "    plt.loglog(ranks, freqs, 'r-')\n",
        "    #plt.xscale('log')\n",
        "    #plt.yscale('log')\n",
        "    plt.xlabel('frequency(f)', fontsize=12, fontweight='bold')\n",
        "    plt.ylabel('rank(r)', fontsize=12, fontweight='bold')\n",
        "    plt.title(title, fontsize=12, fontweight='bold')\n",
        "    #plt.grid(True)\n",
        "    plt.tight_layout()\n",
        "    plt.show()"
      ],
      "execution_count": 12,
      "outputs": []
    },
    {
      "cell_type": "code",
      "metadata": {
        "id": "wJCOAqJgp-cD"
      },
      "source": [
        "def zipf_double(bow1, bow2, title=\"Zipf plot\"):\n",
        "    freqs1 = [i[1] for i in bow1]\n",
        "    ranks1 = [i+1 for i in range(len(freqs1))]\n",
        "    \n",
        "    freqs2 = [i[1] for i in bow2]\n",
        "    ranks2 = [i+1 for i in range(len(freqs2))]\n",
        "\n",
        "    plt.figure(figsize=(8, 6), dpi=80)\n",
        "    plt.loglog(ranks1, freqs1, 'r-')\n",
        "    plt.loglog(ranks2, freqs2, 'b-')\n",
        "    #plt.xscale('log')\n",
        "    #plt.yscale('log')\n",
        "    plt.xlabel('frequency(f)')\n",
        "    plt.ylabel('rank(r)')\n",
        "    plt.legend(['Before stemming', 'After stemming'])\n",
        "    plt.title(title)\n",
        "    #plt.grid(True)\n",
        "    plt.tight_layout()\n",
        "    plt.show()"
      ],
      "execution_count": 48,
      "outputs": []
    },
    {
      "cell_type": "code",
      "metadata": {
        "colab": {
          "base_uri": "https://localhost:8080/",
          "height": 35
        },
        "id": "RgF-IWx_e17Z",
        "outputId": "5ec6e96d-666e-4a51-c011-4497fdb2f564"
      },
      "source": [
        "'''\n",
        "zipf(b1_original_bow, title='original')\n",
        "zipf(b1_stemming_stop, title='stemming_stop')\n",
        "'''"
      ],
      "execution_count": 13,
      "outputs": [
        {
          "output_type": "execute_result",
          "data": {
            "application/vnd.google.colaboratory.intrinsic+json": {
              "type": "string"
            },
            "text/plain": [
              "\"\\nzipf(b1_original_bow, title='original')\\nzipf(b1_stemming_stop, title='stemming_stop')\\n\""
            ]
          },
          "metadata": {},
          "execution_count": 13
        }
      ]
    },
    {
      "cell_type": "code",
      "metadata": {
        "id": "z4pWKyS9o5qj"
      },
      "source": [
        "'''\n",
        "original_bow = clean_corpus(b1_reviews)\n",
        "stop_removed = clean_corpus(b1_reviews, stopword_removal=True)\n",
        "stemming_only = clean_corpus(b1_reviews, stopword_removal=False, stemming=True)\n",
        "stemming_stop = clean_corpus(b1_reviews, stopword_removal=True, stemming=True)\n",
        "'''"
      ],
      "execution_count": 24,
      "outputs": []
    },
    {
      "cell_type": "code",
      "metadata": {
        "colab": {
          "base_uri": "https://localhost:8080/",
          "height": 297
        },
        "id": "8PwNvXnapG5d",
        "outputId": "4755d99a-4525-496b-b499-43268095be3b"
      },
      "source": [
        "'''   \n",
        "freqs = [i[1] for i in original_bow]\n",
        "ranks = [i+1 for i in range(len(freqs))]\n",
        "\n",
        "freqs2 = [i[1] for i in stemming_only]\n",
        "ranks2 = [i+1 for i in range(len(freqs2))]\n",
        "\n",
        "plt.loglog(ranks, freqs, 'r-')\n",
        "plt.loglog(ranks2, freqs2, 'b-')\n",
        "#plt.xscale('log')\n",
        "#plt.yscale('log')\n",
        "plt.xlabel('frequency(f)')\n",
        "plt.ylabel('rank(r)')\n",
        "plt.title(\"\", fontsize=12, fontweight='bold')\n",
        "plt.legend(['Before stemming', 'After stemming'])\n",
        "#plt.grid(True)\n",
        "plt.tight_layout()\n",
        "plt.show()\n",
        "'''"
      ],
      "execution_count": 28,
      "outputs": [
        {
          "output_type": "display_data",
          "data": {
            "image/png": "[encoded data removed]",
            "text/plain": [
              "<Figure size 432x288 with 1 Axes>"
            ]
          },
          "metadata": {
            "needs_background": "light"
          }
        }
      ]
    },
    {
      "cell_type": "markdown",
      "metadata": {
        "id": "mEK4wBFXjZ1a"
      },
      "source": [
        "# List 10 most frequent words"
      ]
    },
    {
      "cell_type": "code",
      "metadata": {
        "id": "fluHOyUpg191"
      },
      "source": [
        "# a helper function to write the count of words\n",
        "def autolabel(rects): \n",
        "    for rect in rects:\n",
        "        height = rect.get_height()\n",
        "        plt.text(rect.get_x()+rect.get_width()/2., 1.03*height, \"%i\" % int(height))"
      ],
      "execution_count": 14,
      "outputs": []
    },
    {
      "cell_type": "code",
      "metadata": {
        "id": "DCwxA6SCgyaq"
      },
      "source": [
        "def plt_common_words(corpus, title=\"Word Frequency\", num=10):\n",
        "    x = [i[0] for i in corpus][0:num]\n",
        "    y = [i[1] for i in corpus][0:num]\n",
        "    plt.figure(figsize=(8, 6), dpi=80)\n",
        "    autolabel(plt.bar(range(len(x)), y, color=['red', 'orange', 'yellow', 'green', 'blue', 'indigo', 'violet'], align = 'center', tick_label=x))  \n",
        "    plt.title(title) \n",
        "    plt.xlabel('Word') \n",
        "    plt.ylabel('Frequency') \n",
        "    plt.tight_layout()\n",
        "    plt.show()"
      ],
      "execution_count": 53,
      "outputs": []
    },
    {
      "cell_type": "code",
      "metadata": {
        "colab": {
          "base_uri": "https://localhost:8080/",
          "height": 52
        },
        "id": "PS5RdWNokCZu",
        "outputId": "b44dcb8e-29c3-46e4-bc80-e86b277135f6"
      },
      "source": [
        "'''\n",
        "plt_common_words(b1_original_bow)\n",
        "plt_common_words(b1_stop_removed, title=\"remove stopwords only\")\n",
        "plt_common_words(b1_stemming_stop, title=\"stem and remove stopwords\")\n",
        "'''"
      ],
      "execution_count": 16,
      "outputs": [
        {
          "output_type": "execute_result",
          "data": {
            "application/vnd.google.colaboratory.intrinsic+json": {
              "type": "string"
            },
            "text/plain": [
              "'\\nplt_common_words(b1_original_bow)\\nplt_common_words(b1_stop_removed, title=\"remove stopwords only\")\\nplt_common_words(b1_stemming_stop, title=\"stem and remove stopwords\")\\n'"
            ]
          },
          "metadata": {},
          "execution_count": 16
        }
      ]
    },
    {
      "cell_type": "markdown",
      "metadata": {
        "id": "4XbtxNAGnqxp"
      },
      "source": [
        "# Combine pictures together"
      ]
    },
    {
      "cell_type": "code",
      "metadata": {
        "id": "aIL1pn5hnzGR"
      },
      "source": [
        "def draw_words_distribution(corpus, name=''):\n",
        "    original_bow = clean_corpus(corpus)\n",
        "    stop_removed = clean_corpus(corpus, stopword_removal=True)\n",
        "    stemming_only = clean_corpus(corpus, stopword_removal=False, stemming=True)\n",
        "    stemming_stop = clean_corpus(corpus, stopword_removal=True, stemming=True)\n",
        "\n",
        "    #print(original_bow)\n",
        "    #print(stemming_only)\n",
        "    # do not remove stop words!!!\n",
        "    #zipf(original_bow, title=name+' zipf\\'s law before stemming')\n",
        "    #zipf(stemming_only, title=name+' zipf\\'s law after stemming')\n",
        "    zipf_double(original_bow, stemming_only, title=name+' zipf\\'s law')\n",
        "\n",
        "    #print(stop_removed)\n",
        "    #print(stemming_stop)\n",
        "    # remove stop words when list most common ones!!!\n",
        "    plt_common_words(stop_removed, title=name+' top10 words before stemming')\n",
        "    plt_common_words(stemming_stop, title=name+' top10 words after stemming')"
      ],
      "execution_count": 54,
      "outputs": []
    },
    {
      "cell_type": "code",
      "metadata": {
        "colab": {
          "base_uri": "https://localhost:8080/",
          "height": 1000
        },
        "id": "o7g75JrKpqXC",
        "outputId": "b527b1d3-366f-4441-c866-75f55a8982a5"
      },
      "source": [
        "draw_words_distribution(b1_reviews, name='business_1')"
      ],
      "execution_count": 55,
      "outputs": [
        {
          "output_type": "display_data",
          "data": {
            "image/png": "[encoded data removed]",
            "text/plain": [
              "<Figure size 640x480 with 1 Axes>"
            ]
          },
          "metadata": {
            "needs_background": "light"
          }
        },
        {
          "output_type": "display_data",
          "data": {
            "image/png": "[encoded data removed]",
            "text/plain": [
              "<Figure size 640x480 with 1 Axes>"
            ]
          },
          "metadata": {
            "needs_background": "light"
          }
        },
        {
          "output_type": "display_data",
          "data": {
            "image/png": "[encoded data removed]",
            "text/plain": [
              "<Figure size 640x480 with 1 Axes>"
            ]
          },
          "metadata": {
            "needs_background": "light"
          }
        }
      ]
    },
    {
      "cell_type": "code",
      "metadata": {
        "colab": {
          "base_uri": "https://localhost:8080/",
          "height": 1000
        },
        "id": "Lt8ZRwfyrZr9",
        "outputId": "8db12e4d-fafb-464b-eba0-a990d4aeecd1"
      },
      "source": [
        "draw_words_distribution(b2_reviews, name='business_2')"
      ],
      "execution_count": 56,
      "outputs": [
        {
          "output_type": "display_data",
          "data": {
            "image/png": "[encoded data removed]",
            "text/plain": [
              "<Figure size 640x480 with 1 Axes>"
            ]
          },
          "metadata": {
            "needs_background": "light"
          }
        },
        {
          "output_type": "display_data",
          "data": {
            "image/png": "[encoded data removed]",
            "text/plain": [
              "<Figure size 640x480 with 1 Axes>"
            ]
          },
          "metadata": {
            "needs_background": "light"
          }
        },
        {
          "output_type": "display_data",
          "data": {
            "image/png": "[encoded data removed]",
            "text/plain": [
              "<Figure size 640x480 with 1 Axes>"
            ]
          },
          "metadata": {
            "needs_background": "light"
          }
        }
      ]
    },
    {
      "cell_type": "markdown",
      "metadata": {
        "id": "XMVWIwBvtXoI"
      },
      "source": [
        "# POS part"
      ]
    },
    {
      "cell_type": "code",
      "metadata": {
        "colab": {
          "base_uri": "https://localhost:8080/"
        },
        "id": "CDg-_znNtdwJ",
        "outputId": "226d7882-8f90-4c58-e759-6495e4c07061"
      },
      "source": [
        "from nltk.tag import pos_tag\n",
        "nltk.download('averaged_perceptron_tagger')\n",
        "\n",
        "import spacy\n"
      ],
      "execution_count": 20,
      "outputs": [
        {
          "output_type": "stream",
          "name": "stdout",
          "text": [
            "[nltk_data] Downloading package averaged_perceptron_tagger to\n",
            "[nltk_data]     /root/nltk_data...\n",
            "[nltk_data]   Unzipping taggers/averaged_perceptron_tagger.zip.\n"
          ]
        }
      ]
    },
    {
      "cell_type": "code",
      "metadata": {
        "colab": {
          "base_uri": "https://localhost:8080/"
        },
        "id": "4bdW3XFCtiC1",
        "outputId": "7edacec8-af44-47bb-98f6-a354c3cdca88"
      },
      "source": [
        "s1 = b1_reviews[0]\n",
        "\n",
        "#print(s1)\n",
        "s1 = word_tokenize(s1)\n",
        "#print(s1)\n",
        "result = nltk.pos_tag(s1)\n",
        "\n",
        "print(\"{0:20}{1:20}\".format(\"Word\",\"POS\"))\n",
        "print()\n",
        "for (word, POS) in result:\n",
        "      print(\"{0:20}{1:20}\".format(word,POS))"
      ],
      "execution_count": 22,
      "outputs": [
        {
          "output_type": "stream",
          "name": "stdout",
          "text": [
            "Word                POS                 \n",
            "\n",
            "This                DT                  \n",
            "place               NN                  \n",
            "is                  VBZ                 \n",
            "great               JJ                  \n",
            "!                   .                   \n",
            "Prices              NNS                 \n",
            "are                 VBP                 \n",
            "very                RB                  \n",
            "reasonable          JJ                  \n",
            "and                 CC                  \n",
            "the                 DT                  \n",
            "guys                NNS                 \n",
            "there               EX                  \n",
            "are                 VBP                 \n",
            "knowlegable         JJ                  \n",
            "and                 CC                  \n",
            "curious             JJ                  \n",
            ".                   .                   \n",
            "They                PRP                 \n",
            "got                 VBD                 \n",
            "the                 DT                  \n",
            "work                NN                  \n",
            "done                VBN                 \n",
            "pretty              RB                  \n",
            "fast                JJ                  \n",
            "and                 CC                  \n",
            "they                PRP                 \n",
            "even                RB                  \n",
            "gave                VBD                 \n",
            "me                  PRP                 \n",
            "a                   DT                  \n",
            "ride                NN                  \n",
            "to                  TO                  \n",
            "my                  PRP$                \n",
            "work                NN                  \n",
            "when                WRB                 \n",
            "I                   PRP                 \n",
            "dropped             VBD                 \n",
            "my                  PRP$                \n",
            "truck               NN                  \n",
            "off                 IN                  \n",
            ".                   .                   \n",
            "I                   PRP                 \n",
            "will                MD                  \n",
            "definitely          RB                  \n",
            "go                  VB                  \n",
            "here                RB                  \n",
            "for                 IN                  \n",
            "cuter               NN                  \n",
            "tire                NN                  \n",
            "stuff               NN                  \n",
            ".                   .                   \n"
          ]
        }
      ]
    },
    {
      "cell_type": "code",
      "metadata": {
        "colab": {
          "base_uri": "https://localhost:8080/"
        },
        "id": "uQ8-RxN0trLT",
        "outputId": "daba208a-4d4f-4f23-f0b7-e809f4ffdf14"
      },
      "source": [
        "text = b1_reviews[0]\n",
        "# Load English tokenizer, tagger, \n",
        "# parser, NER and word vectors\n",
        "nlp = spacy.load(\"en_core_web_sm\")\n",
        "# Process whole documents\n",
        "  \n",
        "doc = nlp(text)\n",
        "\n",
        "  \n",
        "# Token and Tag\n",
        "#for token in doc:\n",
        "#  print(token, token.pos_)\n",
        "\n",
        "result = [(str(token), str(token.pos_)) for token in doc] \n",
        "#print(result)\n",
        "\n",
        "print(\"{0:20}{1:20}\".format(\"Word\",\"POS\"))\n",
        "print()\n",
        "for (word, POS) in result:\n",
        "      print(\"{0:20}{1:20}\".format(word,POS))"
      ],
      "execution_count": 23,
      "outputs": [
        {
          "output_type": "stream",
          "name": "stdout",
          "text": [
            "Word                POS                 \n",
            "\n",
            "This                DET                 \n",
            "place               NOUN                \n",
            "is                  AUX                 \n",
            "great               ADJ                 \n",
            "!                   PUNCT               \n",
            "Prices              NOUN                \n",
            "are                 AUX                 \n",
            "very                ADV                 \n",
            "reasonable          ADJ                 \n",
            "and                 CCONJ               \n",
            "the                 DET                 \n",
            "guys                NOUN                \n",
            "there               PRON                \n",
            "are                 AUX                 \n",
            "knowlegable         ADJ                 \n",
            "and                 CCONJ               \n",
            "curious             ADJ                 \n",
            ".                   PUNCT               \n",
            "They                PRON                \n",
            "got                 VERB                \n",
            "the                 DET                 \n",
            "work                NOUN                \n",
            "done                VERB                \n",
            "pretty              ADV                 \n",
            "fast                ADV                 \n",
            "and                 CCONJ               \n",
            "they                PRON                \n",
            "even                ADV                 \n",
            "gave                VERB                \n",
            "me                  PRON                \n",
            "a                   DET                 \n",
            "ride                NOUN                \n",
            "to                  ADP                 \n",
            "my                  DET                 \n",
            "work                NOUN                \n",
            "when                ADV                 \n",
            "I                   PRON                \n",
            "dropped             VERB                \n",
            "my                  DET                 \n",
            "truck               NOUN                \n",
            "off                 ADP                 \n",
            ".                   PUNCT               \n",
            "I                   PRON                \n",
            "will                VERB                \n",
            "definitely          ADV                 \n",
            "go                  VERB                \n",
            "here                ADV                 \n",
            "for                 ADP                 \n",
            "cuter               PROPN               \n",
            "tire                PROPN               \n",
            "stuff               NOUN                \n",
            ".                   PUNCT               \n"
          ]
        }
      ]
    }
  ]
}